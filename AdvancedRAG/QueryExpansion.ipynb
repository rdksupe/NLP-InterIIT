{
 "cells": [
  {
   "cell_type": "markdown",
   "id": "293bcfbc-0883-4d68-be80-32329f3ca049",
   "metadata": {},
   "source": [
    "# Query Expansion : Using a LLM to formulate better queries and in turn getting better returned documents from chromadb which in turn should give better response."
   ]
  },
  {
   "cell_type": "code",
   "execution_count": 21,
   "id": "5a5536f0-651c-40e7-aa15-27ee0cda80b7",
   "metadata": {
    "height": 64
   },
   "outputs": [],
   "source": [
    "from helper_utils import load_chroma, word_wrap, project_embeddings\n",
    "from chromadb.utils.embedding_functions import SentenceTransformerEmbeddingFunction"
   ]
  },
  {
   "cell_type": "code",
   "execution_count": 22,
   "id": "3748b16d-d4a7-49c3-a48a-57dcfc42acd6",
   "metadata": {
    "height": 98
   },
   "outputs": [
    {
     "ename": "UniqueConstraintError",
     "evalue": "Collection microsoft_annual_report_2022 already exists",
     "output_type": "error",
     "traceback": [
      "\u001b[0;31m---------------------------------------------------------------------------\u001b[0m",
      "\u001b[0;31mUniqueConstraintError\u001b[0m                     Traceback (most recent call last)",
      "Cell \u001b[0;32mIn[22], line 3\u001b[0m\n\u001b[1;32m      1\u001b[0m embedding_function \u001b[38;5;241m=\u001b[39m SentenceTransformerEmbeddingFunction()\n\u001b[0;32m----> 3\u001b[0m chroma_collection \u001b[38;5;241m=\u001b[39m \u001b[43mload_chroma\u001b[49m\u001b[43m(\u001b[49m\u001b[43mfilename\u001b[49m\u001b[38;5;241;43m=\u001b[39;49m\u001b[38;5;124;43m'\u001b[39;49m\u001b[38;5;124;43mmicrosoft_annual_report_2022.pdf\u001b[39;49m\u001b[38;5;124;43m'\u001b[39;49m\u001b[43m,\u001b[49m\u001b[43m \u001b[49m\u001b[43mcollection_name\u001b[49m\u001b[38;5;241;43m=\u001b[39;49m\u001b[38;5;124;43m'\u001b[39;49m\u001b[38;5;124;43mmicrosoft_annual_report_2022\u001b[39;49m\u001b[38;5;124;43m'\u001b[39;49m\u001b[43m,\u001b[49m\u001b[43m \u001b[49m\u001b[43membedding_function\u001b[49m\u001b[38;5;241;43m=\u001b[39;49m\u001b[43membedding_function\u001b[49m\u001b[43m)\u001b[49m\n\u001b[1;32m      4\u001b[0m chroma_collection\u001b[38;5;241m.\u001b[39mcount()\n",
      "File \u001b[0;32m~/work/L3/helper_utils.py:41\u001b[0m, in \u001b[0;36mload_chroma\u001b[0;34m(filename, collection_name, embedding_function)\u001b[0m\n\u001b[1;32m     38\u001b[0m chunks \u001b[38;5;241m=\u001b[39m _chunk_texts(texts)\n\u001b[1;32m     40\u001b[0m chroma_cliet \u001b[38;5;241m=\u001b[39m chromadb\u001b[38;5;241m.\u001b[39mClient()\n\u001b[0;32m---> 41\u001b[0m chroma_collection \u001b[38;5;241m=\u001b[39m \u001b[43mchroma_cliet\u001b[49m\u001b[38;5;241;43m.\u001b[39;49m\u001b[43mcreate_collection\u001b[49m\u001b[43m(\u001b[49m\u001b[43mname\u001b[49m\u001b[38;5;241;43m=\u001b[39;49m\u001b[43mcollection_name\u001b[49m\u001b[43m,\u001b[49m\u001b[43m \u001b[49m\u001b[43membedding_function\u001b[49m\u001b[38;5;241;43m=\u001b[39;49m\u001b[43membedding_function\u001b[49m\u001b[43m)\u001b[49m\n\u001b[1;32m     43\u001b[0m ids \u001b[38;5;241m=\u001b[39m [\u001b[38;5;28mstr\u001b[39m(i) \u001b[38;5;28;01mfor\u001b[39;00m i \u001b[38;5;129;01min\u001b[39;00m \u001b[38;5;28mrange\u001b[39m(\u001b[38;5;28mlen\u001b[39m(chunks))]\n\u001b[1;32m     45\u001b[0m chroma_collection\u001b[38;5;241m.\u001b[39madd(ids\u001b[38;5;241m=\u001b[39mids, documents\u001b[38;5;241m=\u001b[39mchunks)\n",
      "File \u001b[0;32m/usr/local/lib/python3.9/site-packages/chromadb/api/client.py:187\u001b[0m, in \u001b[0;36mClient.create_collection\u001b[0;34m(self, name, metadata, embedding_function, data_loader, get_or_create)\u001b[0m\n\u001b[1;32m    176\u001b[0m \u001b[38;5;129m@override\u001b[39m\n\u001b[1;32m    177\u001b[0m \u001b[38;5;28;01mdef\u001b[39;00m \u001b[38;5;21mcreate_collection\u001b[39m(\n\u001b[1;32m    178\u001b[0m     \u001b[38;5;28mself\u001b[39m,\n\u001b[0;32m   (...)\u001b[0m\n\u001b[1;32m    185\u001b[0m     get_or_create: \u001b[38;5;28mbool\u001b[39m \u001b[38;5;241m=\u001b[39m \u001b[38;5;28;01mFalse\u001b[39;00m,\n\u001b[1;32m    186\u001b[0m ) \u001b[38;5;241m-\u001b[39m\u001b[38;5;241m>\u001b[39m Collection:\n\u001b[0;32m--> 187\u001b[0m     \u001b[38;5;28;01mreturn\u001b[39;00m \u001b[38;5;28;43mself\u001b[39;49m\u001b[38;5;241;43m.\u001b[39;49m\u001b[43m_server\u001b[49m\u001b[38;5;241;43m.\u001b[39;49m\u001b[43mcreate_collection\u001b[49m\u001b[43m(\u001b[49m\n\u001b[1;32m    188\u001b[0m \u001b[43m        \u001b[49m\u001b[43mname\u001b[49m\u001b[38;5;241;43m=\u001b[39;49m\u001b[43mname\u001b[49m\u001b[43m,\u001b[49m\n\u001b[1;32m    189\u001b[0m \u001b[43m        \u001b[49m\u001b[43mmetadata\u001b[49m\u001b[38;5;241;43m=\u001b[39;49m\u001b[43mmetadata\u001b[49m\u001b[43m,\u001b[49m\n\u001b[1;32m    190\u001b[0m \u001b[43m        \u001b[49m\u001b[43membedding_function\u001b[49m\u001b[38;5;241;43m=\u001b[39;49m\u001b[43membedding_function\u001b[49m\u001b[43m,\u001b[49m\n\u001b[1;32m    191\u001b[0m \u001b[43m        \u001b[49m\u001b[43mdata_loader\u001b[49m\u001b[38;5;241;43m=\u001b[39;49m\u001b[43mdata_loader\u001b[49m\u001b[43m,\u001b[49m\n\u001b[1;32m    192\u001b[0m \u001b[43m        \u001b[49m\u001b[43mtenant\u001b[49m\u001b[38;5;241;43m=\u001b[39;49m\u001b[38;5;28;43mself\u001b[39;49m\u001b[38;5;241;43m.\u001b[39;49m\u001b[43mtenant\u001b[49m\u001b[43m,\u001b[49m\n\u001b[1;32m    193\u001b[0m \u001b[43m        \u001b[49m\u001b[43mdatabase\u001b[49m\u001b[38;5;241;43m=\u001b[39;49m\u001b[38;5;28;43mself\u001b[39;49m\u001b[38;5;241;43m.\u001b[39;49m\u001b[43mdatabase\u001b[49m\u001b[43m,\u001b[49m\n\u001b[1;32m    194\u001b[0m \u001b[43m        \u001b[49m\u001b[43mget_or_create\u001b[49m\u001b[38;5;241;43m=\u001b[39;49m\u001b[43mget_or_create\u001b[49m\u001b[43m,\u001b[49m\n\u001b[1;32m    195\u001b[0m \u001b[43m    \u001b[49m\u001b[43m)\u001b[49m\n",
      "File \u001b[0;32m/usr/local/lib/python3.9/site-packages/chromadb/telemetry/opentelemetry/__init__.py:127\u001b[0m, in \u001b[0;36mtrace_method.<locals>.decorator.<locals>.wrapper\u001b[0;34m(*args, **kwargs)\u001b[0m\n\u001b[1;32m    125\u001b[0m \u001b[38;5;28;01mglobal\u001b[39;00m tracer, granularity\n\u001b[1;32m    126\u001b[0m \u001b[38;5;28;01mif\u001b[39;00m trace_granularity \u001b[38;5;241m<\u001b[39m granularity:\n\u001b[0;32m--> 127\u001b[0m     \u001b[38;5;28;01mreturn\u001b[39;00m \u001b[43mf\u001b[49m\u001b[43m(\u001b[49m\u001b[38;5;241;43m*\u001b[39;49m\u001b[43margs\u001b[49m\u001b[43m,\u001b[49m\u001b[43m \u001b[49m\u001b[38;5;241;43m*\u001b[39;49m\u001b[38;5;241;43m*\u001b[39;49m\u001b[43mkwargs\u001b[49m\u001b[43m)\u001b[49m\n\u001b[1;32m    128\u001b[0m \u001b[38;5;28;01mif\u001b[39;00m \u001b[38;5;129;01mnot\u001b[39;00m tracer:\n\u001b[1;32m    129\u001b[0m     \u001b[38;5;28;01mreturn\u001b[39;00m f(\u001b[38;5;241m*\u001b[39margs, \u001b[38;5;241m*\u001b[39m\u001b[38;5;241m*\u001b[39mkwargs)\n",
      "File \u001b[0;32m/usr/local/lib/python3.9/site-packages/chromadb/api/segment.py:166\u001b[0m, in \u001b[0;36mSegmentAPI.create_collection\u001b[0;34m(self, name, metadata, embedding_function, data_loader, get_or_create, tenant, database)\u001b[0m\n\u001b[1;32m    162\u001b[0m check_index_name(name)\n\u001b[1;32m    164\u001b[0m \u001b[38;5;28mid\u001b[39m \u001b[38;5;241m=\u001b[39m uuid4()\n\u001b[0;32m--> 166\u001b[0m coll, created \u001b[38;5;241m=\u001b[39m \u001b[38;5;28;43mself\u001b[39;49m\u001b[38;5;241;43m.\u001b[39;49m\u001b[43m_sysdb\u001b[49m\u001b[38;5;241;43m.\u001b[39;49m\u001b[43mcreate_collection\u001b[49m\u001b[43m(\u001b[49m\n\u001b[1;32m    167\u001b[0m \u001b[43m    \u001b[49m\u001b[38;5;28;43mid\u001b[39;49m\u001b[38;5;241;43m=\u001b[39;49m\u001b[38;5;28;43mid\u001b[39;49m\u001b[43m,\u001b[49m\n\u001b[1;32m    168\u001b[0m \u001b[43m    \u001b[49m\u001b[43mname\u001b[49m\u001b[38;5;241;43m=\u001b[39;49m\u001b[43mname\u001b[49m\u001b[43m,\u001b[49m\n\u001b[1;32m    169\u001b[0m \u001b[43m    \u001b[49m\u001b[43mmetadata\u001b[49m\u001b[38;5;241;43m=\u001b[39;49m\u001b[43mmetadata\u001b[49m\u001b[43m,\u001b[49m\n\u001b[1;32m    170\u001b[0m \u001b[43m    \u001b[49m\u001b[43mdimension\u001b[49m\u001b[38;5;241;43m=\u001b[39;49m\u001b[38;5;28;43;01mNone\u001b[39;49;00m\u001b[43m,\u001b[49m\n\u001b[1;32m    171\u001b[0m \u001b[43m    \u001b[49m\u001b[43mget_or_create\u001b[49m\u001b[38;5;241;43m=\u001b[39;49m\u001b[43mget_or_create\u001b[49m\u001b[43m,\u001b[49m\n\u001b[1;32m    172\u001b[0m \u001b[43m    \u001b[49m\u001b[43mtenant\u001b[49m\u001b[38;5;241;43m=\u001b[39;49m\u001b[43mtenant\u001b[49m\u001b[43m,\u001b[49m\n\u001b[1;32m    173\u001b[0m \u001b[43m    \u001b[49m\u001b[43mdatabase\u001b[49m\u001b[38;5;241;43m=\u001b[39;49m\u001b[43mdatabase\u001b[49m\u001b[43m,\u001b[49m\n\u001b[1;32m    174\u001b[0m \u001b[43m\u001b[49m\u001b[43m)\u001b[49m\n\u001b[1;32m    176\u001b[0m \u001b[38;5;28;01mif\u001b[39;00m created:\n\u001b[1;32m    177\u001b[0m     segments \u001b[38;5;241m=\u001b[39m \u001b[38;5;28mself\u001b[39m\u001b[38;5;241m.\u001b[39m_manager\u001b[38;5;241m.\u001b[39mcreate_segments(coll)\n",
      "File \u001b[0;32m/usr/local/lib/python3.9/site-packages/chromadb/telemetry/opentelemetry/__init__.py:127\u001b[0m, in \u001b[0;36mtrace_method.<locals>.decorator.<locals>.wrapper\u001b[0;34m(*args, **kwargs)\u001b[0m\n\u001b[1;32m    125\u001b[0m \u001b[38;5;28;01mglobal\u001b[39;00m tracer, granularity\n\u001b[1;32m    126\u001b[0m \u001b[38;5;28;01mif\u001b[39;00m trace_granularity \u001b[38;5;241m<\u001b[39m granularity:\n\u001b[0;32m--> 127\u001b[0m     \u001b[38;5;28;01mreturn\u001b[39;00m \u001b[43mf\u001b[49m\u001b[43m(\u001b[49m\u001b[38;5;241;43m*\u001b[39;49m\u001b[43margs\u001b[49m\u001b[43m,\u001b[49m\u001b[43m \u001b[49m\u001b[38;5;241;43m*\u001b[39;49m\u001b[38;5;241;43m*\u001b[39;49m\u001b[43mkwargs\u001b[49m\u001b[43m)\u001b[49m\n\u001b[1;32m    128\u001b[0m \u001b[38;5;28;01mif\u001b[39;00m \u001b[38;5;129;01mnot\u001b[39;00m tracer:\n\u001b[1;32m    129\u001b[0m     \u001b[38;5;28;01mreturn\u001b[39;00m f(\u001b[38;5;241m*\u001b[39margs, \u001b[38;5;241m*\u001b[39m\u001b[38;5;241m*\u001b[39mkwargs)\n",
      "File \u001b[0;32m/usr/local/lib/python3.9/site-packages/chromadb/db/mixins/sysdb.py:225\u001b[0m, in \u001b[0;36mSqlSysDB.create_collection\u001b[0;34m(self, id, name, metadata, dimension, get_or_create, tenant, database)\u001b[0m\n\u001b[1;32m    218\u001b[0m         \u001b[38;5;28;01mreturn\u001b[39;00m (\n\u001b[1;32m    219\u001b[0m             \u001b[38;5;28mself\u001b[39m\u001b[38;5;241m.\u001b[39mget_collections(\n\u001b[1;32m    220\u001b[0m                 \u001b[38;5;28mid\u001b[39m\u001b[38;5;241m=\u001b[39mcollection[\u001b[38;5;124m\"\u001b[39m\u001b[38;5;124mid\u001b[39m\u001b[38;5;124m\"\u001b[39m], tenant\u001b[38;5;241m=\u001b[39mtenant, database\u001b[38;5;241m=\u001b[39mdatabase\n\u001b[1;32m    221\u001b[0m             )[\u001b[38;5;241m0\u001b[39m],\n\u001b[1;32m    222\u001b[0m             \u001b[38;5;28;01mFalse\u001b[39;00m,\n\u001b[1;32m    223\u001b[0m         )\n\u001b[1;32m    224\u001b[0m     \u001b[38;5;28;01melse\u001b[39;00m:\n\u001b[0;32m--> 225\u001b[0m         \u001b[38;5;28;01mraise\u001b[39;00m UniqueConstraintError(\u001b[38;5;124mf\u001b[39m\u001b[38;5;124m\"\u001b[39m\u001b[38;5;124mCollection \u001b[39m\u001b[38;5;132;01m{\u001b[39;00mname\u001b[38;5;132;01m}\u001b[39;00m\u001b[38;5;124m already exists\u001b[39m\u001b[38;5;124m\"\u001b[39m)\n\u001b[1;32m    227\u001b[0m topic \u001b[38;5;241m=\u001b[39m \u001b[38;5;28mself\u001b[39m\u001b[38;5;241m.\u001b[39m_assignment_policy\u001b[38;5;241m.\u001b[39massign_collection(\u001b[38;5;28mid\u001b[39m)\n\u001b[1;32m    228\u001b[0m collection \u001b[38;5;241m=\u001b[39m Collection(\n\u001b[1;32m    229\u001b[0m     \u001b[38;5;28mid\u001b[39m\u001b[38;5;241m=\u001b[39m\u001b[38;5;28mid\u001b[39m,\n\u001b[1;32m    230\u001b[0m     topic\u001b[38;5;241m=\u001b[39mtopic,\n\u001b[0;32m   (...)\u001b[0m\n\u001b[1;32m    235\u001b[0m     database\u001b[38;5;241m=\u001b[39mdatabase,\n\u001b[1;32m    236\u001b[0m )\n",
      "\u001b[0;31mUniqueConstraintError\u001b[0m: Collection microsoft_annual_report_2022 already exists"
     ]
    }
   ],
   "source": [
    "embedding_function = SentenceTransformerEmbeddingFunction()\n",
    "\n",
    "chroma_collection = load_chroma(filename='microsoft_annual_report_2022.pdf', collection_name='microsoft_annual_report_2022', embedding_function=embedding_function)\n",
    "chroma_collection.count()"
   ]
  },
  {
   "cell_type": "code",
   "execution_count": 23,
   "id": "a338ec83-6301-41a5-9ab1-e5d583306a3f",
   "metadata": {
    "height": 166
   },
   "outputs": [],
   "source": [
    "import os\n",
    "import openai\n",
    "from openai import OpenAI\n",
    "\n",
    "from dotenv import load_dotenv, find_dotenv\n",
    "_ = load_dotenv(find_dotenv()) # read local .env file\n",
    "openai.api_key = os.environ['OPENAI_API_KEY']\n",
    "\n",
    "openai_client = OpenAI()"
   ]
  },
  {
   "cell_type": "code",
   "execution_count": 24,
   "id": "888a86f8-2fe2-4682-bdaf-c15129ed1a32",
   "metadata": {
    "height": 115
   },
   "outputs": [
    {
     "name": "stderr",
     "output_type": "stream",
     "text": [
      "/usr/local/lib/python3.9/site-packages/umap/umap_.py:1943: UserWarning: n_jobs value -1 overridden to 1 by setting random_state. Use no seed for parallelism.\n",
      "  warn(f\"n_jobs value {self.n_jobs} overridden to 1 by setting random_state. Use no seed for parallelism.\")\n",
      "100%|██████████| 349/349 [03:43<00:00,  1.56it/s]\n"
     ]
    }
   ],
   "source": [
    "import umap\n",
    "\n",
    "embeddings = chroma_collection.get(include=['embeddings'])['embeddings']\n",
    "umap_transform = umap.UMAP(random_state=0, transform_seed=0).fit(embeddings)\n",
    "projected_dataset_embeddings = project_embeddings(embeddings, umap_transform)"
   ]
  },
  {
   "cell_type": "markdown",
   "id": "00cafb52-7634-4e42-a334-c4d37259c951",
   "metadata": {},
   "source": [
    "## Expansion with generated answers\n",
    "\n",
    "https://arxiv.org/abs/2305.03653"
   ]
  },
  {
   "cell_type": "code",
   "execution_count": 26,
   "id": "c2a13d14-4484-46f0-8e67-277337f9d138",
   "metadata": {
    "height": 285
   },
   "outputs": [],
   "source": [
    "def augment_query_generated(query, model=\"gpt-3.5-turbo\"):\n",
    "    messages = [\n",
    "        {\n",
    "            \"role\": \"system\",\n",
    "            \"content\": \"You are a helpful expert financial research assistant. Provide an example answer to the given question, that might be found in a document like an annual report. \"\n",
    "        },\n",
    "        {\"role\": \"user\", \"content\": query}\n",
    "    ] \n",
    "\n",
    "    response = openai_client.chat.completions.create(\n",
    "        model=model,\n",
    "        messages=messages,\n",
    "    )\n",
    "    content = response.choices[0].message.content\n",
    "    return content"
   ]
  },
  {
   "cell_type": "code",
   "execution_count": 27,
   "id": "8ba6c8c5-9ce4-44d0-9223-6fdd77871f87",
   "metadata": {
    "height": 98
   },
   "outputs": [
    {
     "name": "stderr",
     "output_type": "stream",
     "text": [
      "huggingface/tokenizers: The current process just got forked, after parallelism has already been used. Disabling parallelism to avoid deadlocks...\n",
      "To disable this warning, you can either:\n",
      "\t- Avoid using `tokenizers` before the fork if possible\n",
      "\t- Explicitly set the environment variable TOKENIZERS_PARALLELISM=(true | false)\n"
     ]
    },
    {
     "name": "stdout",
     "output_type": "stream",
     "text": [
      "Was there significant turnover in the executive team? During the fiscal\n",
      "year, there was no significant turnover in the executive team. All\n",
      "members of the executive team remained in their positions, providing\n",
      "continuity and stability in the leadership of the company. This\n",
      "stability contributed to the successful implementation of our strategic\n",
      "initiatives and the achievement of our financial goals.\n"
     ]
    }
   ],
   "source": [
    "original_query = \"Was there significant turnover in the executive team?\"\n",
    "hypothetical_answer = augment_query_generated(original_query)\n",
    "\n",
    "joint_query = f\"{original_query} {hypothetical_answer}\"\n",
    "print(word_wrap(joint_query))"
   ]
  },
  {
   "cell_type": "code",
   "execution_count": 28,
   "id": "bfdb54db-a442-423c-b006-c33a257cd7d7",
   "metadata": {
    "height": 132
   },
   "outputs": [
    {
     "name": "stdout",
     "output_type": "stream",
     "text": [
      "30 management ’ s discussion and analysis of financial condition and\n",
      "results of operations the following management ’ s discussion and\n",
      "analysis of financial condition and results of operations ( “ md & a ”\n",
      ") is intended to help the reader understand the results of operations\n",
      "and financial condition of microsoft corporation. md & a is provided as\n",
      "a supplement to, and should be read in conjunction with, our\n",
      "consolidated financial statements and the accompanying notes to\n",
      "financial statements in our fiscal year 2022 form 10 - k. this section\n",
      "generally discusses the results of our operations for the year ended\n",
      "june 30, 2022 compared to the year ended june 30, 2021. for a\n",
      "discussion of the year ended june 30, 2021 compared to the year ended\n",
      "june 30, 2020, please refer to in our fiscal year 2022 form 10 - k, “\n",
      "management ’ s discussion and analysis of financial condition and\n",
      "results of operations ” in our annual report on form 10 - k for the\n",
      "year ended june 30, 2021. overview\n",
      "\n",
      "84 report of independent registered public accounting firm to the\n",
      "stockholders and the board of directors of microsoft corporation\n",
      "opinion on the financial statements we have audited the accompanying\n",
      "consolidated balance sheets of microsoft corporation and subsidiaries (\n",
      "the “ company ” ) as of june 30, 2022 and 2021, the related\n",
      "consolidated statements of income, comprehensive income, cash flows,\n",
      "and stockholders ’ equity, for each of the three years in the period\n",
      "ended june 30, 2022, and the related notes ( collectively referred to\n",
      "as the “ financial statements ” ). in our opinion, the financial\n",
      "statements present fairly, in all mat erial respects, the financial\n",
      "position of the company as of june 30, 2022 and 2021, and the results\n",
      "of its operations and its cash flows for each of the three years in the\n",
      "period ended june 30, 2022, in conformity with accounting principles\n",
      "generally accepted in the united states of america.\n",
      "\n",
      "88 report of independent registered public accounting firm to the\n",
      "stockholders and the board of directors of microsoft corporation\n",
      "opinion on internal control over financial reporting we have audited\n",
      "the internal control over financial reporting of microsoft corporation\n",
      "and subsidiaries ( the “ company ” ) as of june 30, 2022, based on\n",
      "criteria established in internal control — integrated framework ( 2013\n",
      ") issued by the committee of sponsoring organizations of the treadway\n",
      "commission ( coso ). in our opinion, the company maintained, in all\n",
      "material respects, effective internal control over financial reporting\n",
      "as of june 30, 2022, based on criteria establis hed in internal control\n",
      "— integrated framework ( 2013 ) issued by coso. we have also audited,\n",
      "in accordance with the standards of the public company accounting\n",
      "oversight board ( united states ) ( pcaob ), the consolidated financial\n",
      "statements as of and for the year ended june 30, 2022, of the company\n",
      "and\n",
      "\n",
      "51 stockholders ’ equity statements ( in millions, except per share\n",
      "amounts ) year ended june 30, 2022 2021 2020 common stock and paid - in\n",
      "capital balance, beginning of period $ 83, 111 $ 80, 552 $ 78, 520\n",
      "common stock issued 1, 841 1, 963 1, 343 common stock repurchased ( 5,\n",
      "688 ) ( 5, 539 ) ( 4, 599 ) stock - based compensation expense 7, 502\n",
      "6, 118 5, 289 other, net 173 17 ( 1 ) balance, end of period 86, 939\n",
      "83, 111 80, 552 retained earnings balance, beginning of period 57, 055\n",
      "34, 566 24, 150 net income 72, 738 61, 271 44, 281 common stock cash\n",
      "dividends ( 18, 552 ) ( 16, 871 ) ( 15, 483 ) common stock repurchased\n",
      "( 26, 960 ) ( 21, 879 ) ( 18, 382 ) cumulative effect of accounting\n",
      "changes 0 ( 32 ) 0 balance, end of period 84, 281 57, 055 34, 566\n",
      "accumulated other comprehensive income ( loss )\n",
      "\n",
      "52 notes to financial statements note 1 — accounting policies\n",
      "accounting principles our consolidated financial statements and\n",
      "accompanying notes are prepared in accordance with accounting\n",
      "principles generally accepted in the united states of america ( “ gaap\n",
      "” ). we have recast certain prior period amounts to conform to the\n",
      "current period presentation. the recast of these prior period amounts\n",
      "had no impact on our consolidated balance sheets, consolidated income\n",
      "statements, or consolidated cash flows statements. principles of\n",
      "consolidation the consolidated financial statements include the\n",
      "accounts of microsoft corporation and its subsidiaries. intercompany\n",
      "transactions and balances have been eliminated. estimates and\n",
      "assumptions preparing financial statements requires management to make\n",
      "estimates and assumptions that affect the reported amounts of assets,\n",
      "liabilities, revenue, and expenses. examples of estimates and\n",
      "assumptions include : for revenue\n",
      "\n"
     ]
    }
   ],
   "source": [
    "results = chroma_collection.query(query_texts=joint_query, n_results=5, include=['documents', 'embeddings'])\n",
    "retrieved_documents = results['documents'][0]\n",
    "\n",
    "for doc in retrieved_documents:\n",
    "    print(word_wrap(doc))\n",
    "    print('')"
   ]
  },
  {
   "cell_type": "code",
   "execution_count": 29,
   "id": "377a84aa-1d93-4e97-9b2d-d59c46355338",
   "metadata": {
    "height": 149
   },
   "outputs": [
    {
     "name": "stderr",
     "output_type": "stream",
     "text": [
      "100%|██████████| 1/1 [00:00<00:00,  1.72it/s]\n",
      "100%|██████████| 1/1 [00:00<00:00,  1.13it/s]\n",
      "100%|██████████| 5/5 [00:02<00:00,  1.72it/s]\n"
     ]
    }
   ],
   "source": [
    "retrieved_embeddings = results['embeddings'][0]\n",
    "original_query_embedding = embedding_function([original_query])\n",
    "augmented_query_embedding = embedding_function([joint_query])\n",
    "\n",
    "projected_original_query_embedding = project_embeddings(original_query_embedding, umap_transform)\n",
    "projected_augmented_query_embedding = project_embeddings(augmented_query_embedding, umap_transform)\n",
    "projected_retrieved_embeddings = project_embeddings(retrieved_embeddings, umap_transform)"
   ]
  },
  {
   "cell_type": "code",
   "execution_count": 30,
   "id": "ba0ed8ca-6640-4c09-9cb3-9de5e7cf46dc",
   "metadata": {
    "height": 234
   },
   "outputs": [
    {
     "data": {
      "text/plain": [
       "(-3.3378206849098206, 7.230811512470245, 5.923376560211182, 13.01902151107788)"
      ]
     },
     "execution_count": 30,
     "metadata": {},
     "output_type": "execute_result"
    },
    {
     "data": {
      "image/png": "[encoded data removed]",
      "text/plain": [
       "<Figure size 640x480 with 1 Axes>"
      ]
     },
     "metadata": {},
     "output_type": "display_data"
    }
   ],
   "source": [
    "import matplotlib.pyplot as plt\n",
    "\n",
    "# Plot the projected query and retrieved documents in the embedding space\n",
    "plt.figure()\n",
    "plt.scatter(projected_dataset_embeddings[:, 0], projected_dataset_embeddings[:, 1], s=10, color='gray')\n",
    "plt.scatter(projected_retrieved_embeddings[:, 0], projected_retrieved_embeddings[:, 1], s=100, facecolors='none', edgecolors='g')\n",
    "plt.scatter(projected_original_query_embedding[:, 0], projected_original_query_embedding[:, 1], s=150, marker='X', color='r')\n",
    "plt.scatter(projected_augmented_query_embedding[:, 0], projected_augmented_query_embedding[:, 1], s=150, marker='X', color='orange')\n",
    "\n",
    "plt.gca().set_aspect('equal', 'datalim')\n",
    "plt.title(f'{original_query}')\n",
    "plt.axis('off')"
   ]
  },
  {
   "cell_type": "markdown",
   "id": "24007a5a-4258-4f3d-8d14-d5b01bfa5cd0",
   "metadata": {},
   "source": [
    "## Expansion with multiple queries\n"
   ]
  },
  {
   "cell_type": "code",
   "execution_count": 31,
   "id": "db9f2758-0f5a-49e5-b1fa-517b91324575",
   "metadata": {
    "height": 370
   },
   "outputs": [],
   "source": [
    "def augment_multiple_query(query, model=\"gpt-3.5-turbo\"):\n",
    "    messages = [\n",
    "        {\n",
    "            \"role\": \"system\",\n",
    "            \"content\": \"You are a helpful expert financial research assistant. Your users are asking questions about an annual report. \"\n",
    "            \"Suggest up to five additional related questions to help them find the information they need, for the provided question. \"\n",
    "            \"Suggest only short questions without compound sentences. Suggest a variety of questions that cover different aspects of the topic.\"\n",
    "            \"Make sure they are complete questions, and that they are related to the original question.\"\n",
    "            \"Output one question per line. Do not number the questions.\"\n",
    "        },\n",
    "        {\"role\": \"user\", \"content\": query}\n",
    "    ]\n",
    "\n",
    "    response = openai_client.chat.completions.create(\n",
    "        model=model,\n",
    "        messages=messages,\n",
    "    )\n",
    "    content = response.choices[0].message.content\n",
    "    content = content.split(\"\\n\")\n",
    "    return content"
   ]
  },
  {
   "cell_type": "code",
   "execution_count": 32,
   "id": "aee59493-8a99-4da8-b94f-4747efcfc79d",
   "metadata": {
    "height": 115
   },
   "outputs": [
    {
     "name": "stdout",
     "output_type": "stream",
     "text": [
      "What were the key strategies implemented to drive revenue growth?\n",
      "How did changes in customer demand impact revenue?\n",
      "What were the main product lines or services driving revenue growth?\n",
      "Were there any pricing changes that affected revenue?\n",
      "What were the geographical regions that showed the most significant revenue growth?\n"
     ]
    }
   ],
   "source": [
    "original_query = \"What were the most important factors that contributed to increases in revenue?\"\n",
    "augmented_queries = augment_multiple_query(original_query)\n",
    "\n",
    "for query in augmented_queries:\n",
    "    print(query)"
   ]
  },
  {
   "cell_type": "code",
   "execution_count": 33,
   "id": "f5eda9bc-ae76-4db6-9e0c-ae099d852d78",
   "metadata": {
    "height": 353
   },
   "outputs": [
    {
     "name": "stdout",
     "output_type": "stream",
     "text": [
      "Query: What were the most important factors that contributed to increases in revenue?\n",
      "\n",
      "Results:\n",
      "engineering, gaming, and linkedin. • sales and marketing expenses\n",
      "increased $ 1. 7 billion or 8 % driven by investments in commercial\n",
      "sales and linkedin. sales and marketing included a favorable foreign\n",
      "currency impact of 2 %. • general and administrative expenses increased\n",
      "$ 793 million or 16 % driven by investments in corporate functions.\n",
      "operating income increased $ 13. 5 billion or 19 % driven by growth\n",
      "across each of our segments. current year net income and diluted eps\n",
      "were positively impacted by the net tax benefit related to the transfer\n",
      "of intangible properties, which resulted in an increase to net income\n",
      "and diluted eps of $ 3. 3 billion and $ 0. 44, respectively. prior year\n",
      "net income and diluted eps were positively impacted by the net tax\n",
      "benefit related to the india supreme court decision on withholding\n",
      "taxes, which resulted in an increase to net income and diluted eps of $\n",
      "620 million and $ 0. 08, respectively.\n",
      "\n",
      "independent recalculation of prices where appropriate. cash flows cash\n",
      "from operations increased $ 12. 3 billion to $ 89. 0 billion for fiscal\n",
      "year 2022, mainly due to an increase in cash received from customers,\n",
      "offset in part by an increase in cash paid to suppliers and employees.\n",
      "cash used in financing increased $ 10. 4 billion to $ 58. 9 billion for\n",
      "fiscal year 2022, mainly due to a $ 5. 3 billion increase in common\n",
      "stock repurchases and a $ 5. 3 billion increase in repayments of debt.\n",
      "cash used in investing increased $ 2. 7 billion to $ 30. 3 billion for\n",
      "fiscal year 2022, mainly due to a $ 13. 1 billion increase in cash used\n",
      "for acquisitions of companies, net of cash acquired, and purchases of\n",
      "intangible and other assets, and a $ 3. 3 billion increase in additions\n",
      "to property and equipment, offset in part by a $ 15. 6 billion increase\n",
      "in cash from net investment purchases, sales, and maturities.\n",
      "\n",
      "37 general and administrative expenses include payroll, employee\n",
      "benefits, stock - based compensation expense, and other headcount -\n",
      "related expenses associated with finance, legal, facilities, certain\n",
      "human resources and other administrative personnel, certain taxes, and\n",
      "legal and other administrative fees. general and administrative\n",
      "expenses increased $ 793 million or 16 % driven by investments in\n",
      "corporate functions. other income ( expense ), net the components of\n",
      "other income ( expense ), net were as follows : ( in millions ) year\n",
      "ended june 30, 2022 2021 interest and dividends income $ 2, 094 $ 2,\n",
      "131 interest expense ( 2, 063 ) ( 2, 346 ) net recognized gains on\n",
      "investments 461 1, 232 net gains ( losses ) on derivatives ( 52 ) 17\n",
      "net gains ( losses ) on foreign currency remeasurements ( 75 ) 54\n",
      "other, net ( 32 ) 98 total $ 333 $ 1, 186\n",
      "\n",
      "services. server products revenue increased 5 % driven by hybrid\n",
      "solutions, including windows server and sql server running in multi -\n",
      "cloud environments. • enterprise services revenue increased $ 464\n",
      "million or 7 % driven by growth in enterprise support services.\n",
      "operating income increased $ 6. 6 billion or 25 %. • gross margin\n",
      "increased $ 9. 4 billion or 22 % driven by growth in azure and other\n",
      "cloud services. gross margin percentage decreased. excluding the impact\n",
      "of the change in accounting estimate, gross margin percentage was\n",
      "relatively unchanged driven by improvement in azure and other cloud\n",
      "services, offset in part by sales mix shift to azure and other cloud\n",
      "services. • operating expenses increased $ 2. 8 billion or 16 % driven\n",
      "by investments in azure and other cloud services. revenue and operating\n",
      "income included an unfavorable foreign currency impact of 2 % and 3 %,\n",
      "respectively. more personal computing revenue increased $ 5. 6 billion\n",
      "or 10 %.\n",
      "\n",
      "( in millions, except percentages ) 2022 2021 percentage change sales\n",
      "and marketing $ 21, 825 $ 20, 117 8 % as a percent of revenue 11 % 12 %\n",
      "( 1 ) ppt sales and marketing expenses include payroll, employee\n",
      "benefits, stock - based compensation expense, and other headcount -\n",
      "related expenses associated with sales and marketing personnel, and the\n",
      "costs of advertising, promotions, trade shows, seminars, and other\n",
      "programs. sales and marketing expenses increased $ 1. 7 billion or 8 %\n",
      "driven by investments in commercial sales and linkedin. sales and\n",
      "marketing included a favorable foreign currency impact of 2 %. general\n",
      "and administrative ( in millions, except percentages ) 2022 2021\n",
      "percentage change general and administrative $ 5, 900 $ 5, 107 16 % as\n",
      "a percent of revenue 3 % 3 % 0ppt\n",
      "\n",
      "----------------------------------------------------------------------------------------------------\n",
      "Query: What were the key strategies implemented to drive revenue growth?\n",
      "\n",
      "Results:\n",
      "engineering, gaming, and linkedin. • sales and marketing expenses\n",
      "increased $ 1. 7 billion or 8 % driven by investments in commercial\n",
      "sales and linkedin. sales and marketing included a favorable foreign\n",
      "currency impact of 2 %. • general and administrative expenses increased\n",
      "$ 793 million or 16 % driven by investments in corporate functions.\n",
      "operating income increased $ 13. 5 billion or 19 % driven by growth\n",
      "across each of our segments. current year net income and diluted eps\n",
      "were positively impacted by the net tax benefit related to the transfer\n",
      "of intangible properties, which resulted in an increase to net income\n",
      "and diluted eps of $ 3. 3 billion and $ 0. 44, respectively. prior year\n",
      "net income and diluted eps were positively impacted by the net tax\n",
      "benefit related to the india supreme court decision on withholding\n",
      "taxes, which resulted in an increase to net income and diluted eps of $\n",
      "620 million and $ 0. 08, respectively.\n",
      "\n",
      "36 • search and news advertising revenue increased $ 2. 3 billion or 25\n",
      "%. search and news advertising revenue excluding traffic acquisition\n",
      "costs increased 27 % driven by higher revenue per search and search\n",
      "volume. • gaming revenue increased $ 860 million or 6 % on a strong\n",
      "prior year comparable that benefited from xbox series x | s launches\n",
      "and stay - at - home scenarios, driven by growth in xbox hardware and\n",
      "xbox content and services. xbox hardware revenue increased 16 % due to\n",
      "continued demand for xbox series x | s. xbox content and services\n",
      "revenue increased 3 % driven by growth in xbox game pass subscriptions\n",
      "and first - party content, offset in part by a decline in third - party\n",
      "content. • surface revenue increased $ 226 million or 3 %. operating\n",
      "income increased $ 1. 5 billion or 8 %. • gross margin increased $ 3. 1\n",
      "billion or 10 % driven by growth in windows and search and news\n",
      "advertising. gross margin percentage was relatively unchanged.\n",
      "\n",
      "34 net income tax benefit related to an india supreme court decision on\n",
      "withholding taxes in the third quarter of fiscal year 2021. refer to\n",
      "the non - gaap financial measures section below for a reconciliation of\n",
      "our financial results reported in accordance with gaap to non - gaap\n",
      "financial results. see note 12 – income taxes of the notes to financial\n",
      "statements in our fiscal year 2022 form 10 - k for further discussion.\n",
      "fiscal year 2022 compared with fiscal year 2021 revenue increased $ 30.\n",
      "2 billion or 18 % driven by growth across each of our segments.\n",
      "intelligent cloud revenue increased driven by azure and other cloud\n",
      "services. productivity and business processes revenue increased driven\n",
      "by office 365 commercial and linkedin. more personal computing revenue\n",
      "increased driven by search and news advertising and windows. cost of\n",
      "revenue increased $ 10. 4 billion or 20 % driven by growth in microsoft\n",
      "cloud.\n",
      "\n",
      "35 reportable segments fiscal year 2022 compared with fiscal year 2021\n",
      "productivity and business processes revenue increased $ 9. 4 billion or\n",
      "18 %. • office commercial products and cloud services revenue increased\n",
      "$ 4. 4 billion or 13 %. office 365 commercial revenue grew 18 % driven\n",
      "by seat growth of 14 %, with continued momentum in small and medium\n",
      "business and frontline worker offerings, as well as growth in revenue\n",
      "per user. office commercial products revenue declined 22 % driven by\n",
      "continued customer shift to cloud offerings. • office consumer products\n",
      "and cloud services revenue increased $ 641 million or 11 % driven by\n",
      "microsoft 365 consumer subscription revenue. microsoft 365 consumer\n",
      "subscribers grew 15 % to 59. 7 million. • linkedin revenue increased $\n",
      "3. 5 billion or 34 % driven by a strong job market in our talent\n",
      "solutions business and advertising demand in our marketing solutions\n",
      "business.\n",
      "\n",
      "• dynamics products and cloud services revenue increased 25 % driven by\n",
      "dynamics 365 growth of 39 %. operating income increased $ 5. 3 billion\n",
      "or 22 %. • gross margin increased $ 7. 3 billion or 17 % driven by\n",
      "growth in office 365 commercial and linkedin. gross margin percentage\n",
      "was relatively unchanged. excluding the impact of the change in\n",
      "accounting estimate, gross margin percentage increased 2 points driven\n",
      "by improvement across all cloud services. • operating expenses\n",
      "increased $ 2. 0 billion or 11 % driven by investments in linkedin and\n",
      "cloud engineering. gross margin and operating income both included an\n",
      "unfavorable foreign currency impact of 2 %. intelligent cloud revenue\n",
      "increased $ 15. 2 billion or 25 %. • server products and cloud services\n",
      "revenue increased $ 14. 7 billion or 28 % driven by azure and other\n",
      "cloud services. azure and other cloud services revenue grew 45 % driven\n",
      "by growth in our consumption - based\n",
      "\n",
      "----------------------------------------------------------------------------------------------------\n",
      "Query: How did changes in customer demand impact revenue?\n",
      "\n",
      "Results:\n",
      "35 reportable segments fiscal year 2022 compared with fiscal year 2021\n",
      "productivity and business processes revenue increased $ 9. 4 billion or\n",
      "18 %. • office commercial products and cloud services revenue increased\n",
      "$ 4. 4 billion or 13 %. office 365 commercial revenue grew 18 % driven\n",
      "by seat growth of 14 %, with continued momentum in small and medium\n",
      "business and frontline worker offerings, as well as growth in revenue\n",
      "per user. office commercial products revenue declined 22 % driven by\n",
      "continued customer shift to cloud offerings. • office consumer products\n",
      "and cloud services revenue increased $ 641 million or 11 % driven by\n",
      "microsoft 365 consumer subscription revenue. microsoft 365 consumer\n",
      "subscribers grew 15 % to 59. 7 million. • linkedin revenue increased $\n",
      "3. 5 billion or 34 % driven by a strong job market in our talent\n",
      "solutions business and advertising demand in our marketing solutions\n",
      "business.\n",
      "\n",
      "our products are generally sold with a right of return, we may provide\n",
      "other credits or incentives, and in certain instances we estimate\n",
      "customer usage of our products and services, which are accounted for as\n",
      "variable consideration when determining the amount of revenue to\n",
      "recognize. returns and credits are estimated at contract inception and\n",
      "updated at the end of each reporting period if additional information\n",
      "becomes available. changes to our estimated variable consideration were\n",
      "not material for the periods presented. contract balances and other\n",
      "receivables timing of revenue recognition may differ from the timing of\n",
      "invoicing to customers. we record a receivable when revenue is\n",
      "recognized prior to invoicing, or unearned revenue when revenue is\n",
      "recognized subsequent to invoicing. for multi - year agreements, we\n",
      "generally invoice customers annually at the beginning of each annual\n",
      "coverage period. we record a\n",
      "\n",
      "82 in addition, certain costs incurred at a corporate level that are\n",
      "identifiable and that benefit our segments are allocated to them. these\n",
      "allocated costs include legal, including settlements and fines,\n",
      "information technology, human resources, finance, excise taxes, field\n",
      "selling, shared facilities services, and customer service and support.\n",
      "each allocation is measured differently based on the specific facts and\n",
      "circumstances of the costs being allocated. segment revenue and\n",
      "operating income were as follows during the periods presented : ( in\n",
      "millions ) year ended june 30, 2022 2021 2020 revenue productivity and\n",
      "business processes $ 63, 364 $ 53, 915 $ 46, 398 intelligent cloud 75,\n",
      "251 60, 080 48, 366 more personal computing 59, 655 54, 093 48, 251\n",
      "total $ 198, 270 $ 168, 088 $ 143, 015 operating income\n",
      "\n",
      "( in millions, except percentages ) 2022 2021 percentage change sales\n",
      "and marketing $ 21, 825 $ 20, 117 8 % as a percent of revenue 11 % 12 %\n",
      "( 1 ) ppt sales and marketing expenses include payroll, employee\n",
      "benefits, stock - based compensation expense, and other headcount -\n",
      "related expenses associated with sales and marketing personnel, and the\n",
      "costs of advertising, promotions, trade shows, seminars, and other\n",
      "programs. sales and marketing expenses increased $ 1. 7 billion or 8 %\n",
      "driven by investments in commercial sales and linkedin. sales and\n",
      "marketing included a favorable foreign currency impact of 2 %. general\n",
      "and administrative ( in millions, except percentages ) 2022 2021\n",
      "percentage change general and administrative $ 5, 900 $ 5, 107 16 % as\n",
      "a percent of revenue 3 % 3 % 0ppt\n",
      "\n",
      "( in millions ) gross carrying amount accumulated amortization net\n",
      "carrying amount gross carrying amount accumulated amortization net\n",
      "carrying amount june 30, 2022 2021 technology - based $ 11, 277 $ ( 6,\n",
      "958 ) $ 4, 319 $ 9, 779 $ ( 7, 007 ) $ 2, 772 customer - related 7, 342\n",
      "( 3, 171 ) 4, 171 4, 958 ( 2, 859 ) 2, 099 marketing - related 4, 942 (\n",
      "2, 143 ) 2, 799 4, 792 ( 1, 878 ) 2, 914 contract - based 16 ( 7 ) 9\n",
      "446 ( 431 ) 15 total $ 23, 577 ( a ) $ ( 12, 279 ) $ 11, 298 $ 19, 975\n",
      "( b ) $ ( 12, 175 ) $ 7, 800\n",
      "\n",
      "----------------------------------------------------------------------------------------------------\n",
      "Query: What were the main product lines or services driving revenue growth?\n",
      "\n",
      "Results:\n",
      "product revenue includes sales from operating systems, cross - device\n",
      "productivity applications, server applications, business solution\n",
      "applications, desktop and server management tools, software development\n",
      "tools, video games, and hardware such as pcs, tablets, gaming and\n",
      "entertainment consoles, other intelligent devices, and related\n",
      "accessories.\n",
      "\n",
      "35 reportable segments fiscal year 2022 compared with fiscal year 2021\n",
      "productivity and business processes revenue increased $ 9. 4 billion or\n",
      "18 %. • office commercial products and cloud services revenue increased\n",
      "$ 4. 4 billion or 13 %. office 365 commercial revenue grew 18 % driven\n",
      "by seat growth of 14 %, with continued momentum in small and medium\n",
      "business and frontline worker offerings, as well as growth in revenue\n",
      "per user. office commercial products revenue declined 22 % driven by\n",
      "continued customer shift to cloud offerings. • office consumer products\n",
      "and cloud services revenue increased $ 641 million or 11 % driven by\n",
      "microsoft 365 consumer subscription revenue. microsoft 365 consumer\n",
      "subscribers grew 15 % to 59. 7 million. • linkedin revenue increased $\n",
      "3. 5 billion or 34 % driven by a strong job market in our talent\n",
      "solutions business and advertising demand in our marketing solutions\n",
      "business.\n",
      "\n",
      "82 in addition, certain costs incurred at a corporate level that are\n",
      "identifiable and that benefit our segments are allocated to them. these\n",
      "allocated costs include legal, including settlements and fines,\n",
      "information technology, human resources, finance, excise taxes, field\n",
      "selling, shared facilities services, and customer service and support.\n",
      "each allocation is measured differently based on the specific facts and\n",
      "circumstances of the costs being allocated. segment revenue and\n",
      "operating income were as follows during the periods presented : ( in\n",
      "millions ) year ended june 30, 2022 2021 2020 revenue productivity and\n",
      "business processes $ 63, 364 $ 53, 915 $ 46, 398 intelligent cloud 75,\n",
      "251 60, 080 48, 366 more personal computing 59, 655 54, 093 48, 251\n",
      "total $ 198, 270 $ 168, 088 $ 143, 015 operating income\n",
      "\n",
      "productivity and business processes $ 29, 687 $ 24, 351 $ 18, 724\n",
      "intelligent cloud 32, 721 26, 126 18, 324 more personal computing 20,\n",
      "975 19, 439 15, 911 total $ 83, 383 $ 69, 916 $ 52, 959 no sales to an\n",
      "individual customer or country other than the united states accounted\n",
      "for more than 10 % of revenue for fiscal years 2022, 2021, or 2020.\n",
      "revenue, classified by the major geographic areas in which our\n",
      "customers were located, was as follows : ( in millions ) year ended\n",
      "june 30, 2022 2021 2020 united states ( a ) $ 100, 218 $ 83, 953 $ 73,\n",
      "160 other countries 98, 052 84, 135 69, 855 total $ 198, 270 $ 168, 088\n",
      "$ 143, 015 ( a ) includes billings to oems and certain multinational\n",
      "organizations because of the nature of these businesses and the\n",
      "impracticability of determining the geographic source of the revenue.\n",
      "\n",
      "revenue, classified by significant product and service offerings, was\n",
      "as follows : ( in millions ) year ended june 30, 2022 2021 2020 server\n",
      "products and cloud services $ 67, 321 $ 52, 589 $ 41, 379 office\n",
      "products and cloud services 44, 862 39, 872 35, 316 windows 24, 761 22,\n",
      "488 21, 510 gaming 16, 230 15, 370 11, 575 linkedin 13, 816 10, 289 8,\n",
      "077 search and news advertising 11, 591 9, 267 8, 524 enterprise\n",
      "services 7, 407 6, 943 6, 409 devices 6, 991 6, 791 6, 457 other 5, 291\n",
      "4, 479 3, 768 total $ 198, 270 $ 168, 088 $ 143, 015 we have recast\n",
      "certain previously reported amounts in the table above to conform to\n",
      "the way we internally manage and monitor our business.\n",
      "\n",
      "----------------------------------------------------------------------------------------------------\n",
      "Query: Were there any pricing changes that affected revenue?\n",
      "\n",
      "Results:\n",
      "( in millions, except percentages ) 2022 2021 percentage change sales\n",
      "and marketing $ 21, 825 $ 20, 117 8 % as a percent of revenue 11 % 12 %\n",
      "( 1 ) ppt sales and marketing expenses include payroll, employee\n",
      "benefits, stock - based compensation expense, and other headcount -\n",
      "related expenses associated with sales and marketing personnel, and the\n",
      "costs of advertising, promotions, trade shows, seminars, and other\n",
      "programs. sales and marketing expenses increased $ 1. 7 billion or 8 %\n",
      "driven by investments in commercial sales and linkedin. sales and\n",
      "marketing included a favorable foreign currency impact of 2 %. general\n",
      "and administrative ( in millions, except percentages ) 2022 2021\n",
      "percentage change general and administrative $ 5, 900 $ 5, 107 16 % as\n",
      "a percent of revenue 3 % 3 % 0ppt\n",
      "\n",
      "74 note 13 — unearned revenue unearned revenue by segment was as\n",
      "follows : ( in millions ) june 30, 2022 2021 productivity and business\n",
      "processes $ 24, 558 $ 22, 120 intelligent cloud 19, 371 17, 710 more\n",
      "personal computing 4, 479 4, 311 total $ 48, 408 $ 44, 141 changes in\n",
      "unearned revenue were as follows : ( in millions ) year ended june 30,\n",
      "2022 balance, beginning of period $ 44, 141 deferral of revenue 110,\n",
      "455 recognition of unearned revenue ( 106, 188 ) balance, end of period\n",
      "$ 48, 408 revenue allocated to remaining performance obligations, which\n",
      "includes unearned revenue and amounts that will be invoiced and\n",
      "recognized as revenue in future periods, was $ 193 billion as of june\n",
      "30, 2022, of which $ 189 billion is related to the commercial portion\n",
      "of revenue. we expect to recognize approximately 45 % of this revenue\n",
      "over the next 12\n",
      "\n",
      "revenue, classified by significant product and service offerings, was\n",
      "as follows : ( in millions ) year ended june 30, 2022 2021 2020 server\n",
      "products and cloud services $ 67, 321 $ 52, 589 $ 41, 379 office\n",
      "products and cloud services 44, 862 39, 872 35, 316 windows 24, 761 22,\n",
      "488 21, 510 gaming 16, 230 15, 370 11, 575 linkedin 13, 816 10, 289 8,\n",
      "077 search and news advertising 11, 591 9, 267 8, 524 enterprise\n",
      "services 7, 407 6, 943 6, 409 devices 6, 991 6, 791 6, 457 other 5, 291\n",
      "4, 479 3, 768 total $ 198, 270 $ 168, 088 $ 143, 015 we have recast\n",
      "certain previously reported amounts in the table above to conform to\n",
      "the way we internally manage and monitor our business.\n",
      "\n",
      "engineering, gaming, and linkedin. • sales and marketing expenses\n",
      "increased $ 1. 7 billion or 8 % driven by investments in commercial\n",
      "sales and linkedin. sales and marketing included a favorable foreign\n",
      "currency impact of 2 %. • general and administrative expenses increased\n",
      "$ 793 million or 16 % driven by investments in corporate functions.\n",
      "operating income increased $ 13. 5 billion or 19 % driven by growth\n",
      "across each of our segments. current year net income and diluted eps\n",
      "were positively impacted by the net tax benefit related to the transfer\n",
      "of intangible properties, which resulted in an increase to net income\n",
      "and diluted eps of $ 3. 3 billion and $ 0. 44, respectively. prior year\n",
      "net income and diluted eps were positively impacted by the net tax\n",
      "benefit related to the india supreme court decision on withholding\n",
      "taxes, which resulted in an increase to net income and diluted eps of $\n",
      "620 million and $ 0. 08, respectively.\n",
      "\n",
      "82 in addition, certain costs incurred at a corporate level that are\n",
      "identifiable and that benefit our segments are allocated to them. these\n",
      "allocated costs include legal, including settlements and fines,\n",
      "information technology, human resources, finance, excise taxes, field\n",
      "selling, shared facilities services, and customer service and support.\n",
      "each allocation is measured differently based on the specific facts and\n",
      "circumstances of the costs being allocated. segment revenue and\n",
      "operating income were as follows during the periods presented : ( in\n",
      "millions ) year ended june 30, 2022 2021 2020 revenue productivity and\n",
      "business processes $ 63, 364 $ 53, 915 $ 46, 398 intelligent cloud 75,\n",
      "251 60, 080 48, 366 more personal computing 59, 655 54, 093 48, 251\n",
      "total $ 198, 270 $ 168, 088 $ 143, 015 operating income\n",
      "\n",
      "----------------------------------------------------------------------------------------------------\n",
      "Query: What were the geographical regions that showed the most significant revenue growth?\n",
      "\n",
      "Results:\n",
      "productivity and business processes $ 29, 687 $ 24, 351 $ 18, 724\n",
      "intelligent cloud 32, 721 26, 126 18, 324 more personal computing 20,\n",
      "975 19, 439 15, 911 total $ 83, 383 $ 69, 916 $ 52, 959 no sales to an\n",
      "individual customer or country other than the united states accounted\n",
      "for more than 10 % of revenue for fiscal years 2022, 2021, or 2020.\n",
      "revenue, classified by the major geographic areas in which our\n",
      "customers were located, was as follows : ( in millions ) year ended\n",
      "june 30, 2022 2021 2020 united states ( a ) $ 100, 218 $ 83, 953 $ 73,\n",
      "160 other countries 98, 052 84, 135 69, 855 total $ 198, 270 $ 168, 088\n",
      "$ 143, 015 ( a ) includes billings to oems and certain multinational\n",
      "organizations because of the nature of these businesses and the\n",
      "impracticability of determining the geographic source of the revenue.\n",
      "\n",
      "gross margin and operating income both included an unfavorable foreign\n",
      "currency impact of 2 %. segment results of operations ( in millions,\n",
      "except percentages ) 2022 2021 percentage change revenue productivity\n",
      "and business processes $ 63, 364 $ 53, 915 18 % intelligent cloud 75,\n",
      "251 60, 080 25 % more personal computing 59, 655 54, 093 10 % total $\n",
      "198, 270 $ 168, 088 18 % operating income productivity and business\n",
      "processes $ 29, 687 $ 24, 351 22 % intelligent cloud 32, 721 26, 126 25\n",
      "% more personal computing 20, 975 19, 439 8 % total $ 83, 383 $ 69, 916\n",
      "19 %\n",
      "\n",
      "66 gains ( losses ), net of tax, on derivative instruments recognized\n",
      "in our consolidated comprehensive income statements were as follows : (\n",
      "in millions ) year ended june 30, 2022 2021 2020 designated as cash\n",
      "flow hedging instruments foreign exchange contracts included in\n",
      "effectiveness assessment $ ( 57 ) $ 34 $ ( 38 ) note 6 — inventories\n",
      "the components of inventories were as follows : ( in millions ) june\n",
      "30, 2022 2021 raw materials $ 1, 144 $ 1, 190 work in process 82 79\n",
      "finished goods 2, 516 1, 367 total $ 3, 742 $ 2, 636 note 7 — property\n",
      "and equipment the components of property and equipment were as follows\n",
      ": ( in millions ) june 30, 2022 2021 land $ 4, 734 $ 3, 660 buildings\n",
      "and improvements 55, 014 43, 928 leasehold improvements 7, 819 6, 884\n",
      "computer equipment and software 60, 631 51, 250\n",
      "\n",
      "company and with countries over 10 % of the total shown separately,\n",
      "were as follows : ( in millions ) june 30, 2022 2021 2020 united states\n",
      "$ 106, 430 $ 76, 153 $ 60, 789 ireland 15, 505 13, 303 12, 734 other\n",
      "countries 44, 433 38, 858 29, 770 total $ 166, 368 $ 128, 314 $ 103,\n",
      "293\n",
      "\n",
      "services. server products revenue increased 5 % driven by hybrid\n",
      "solutions, including windows server and sql server running in multi -\n",
      "cloud environments. • enterprise services revenue increased $ 464\n",
      "million or 7 % driven by growth in enterprise support services.\n",
      "operating income increased $ 6. 6 billion or 25 %. • gross margin\n",
      "increased $ 9. 4 billion or 22 % driven by growth in azure and other\n",
      "cloud services. gross margin percentage decreased. excluding the impact\n",
      "of the change in accounting estimate, gross margin percentage was\n",
      "relatively unchanged driven by improvement in azure and other cloud\n",
      "services, offset in part by sales mix shift to azure and other cloud\n",
      "services. • operating expenses increased $ 2. 8 billion or 16 % driven\n",
      "by investments in azure and other cloud services. revenue and operating\n",
      "income included an unfavorable foreign currency impact of 2 % and 3 %,\n",
      "respectively. more personal computing revenue increased $ 5. 6 billion\n",
      "or 10 %.\n",
      "\n",
      "----------------------------------------------------------------------------------------------------\n"
     ]
    }
   ],
   "source": [
    "queries = [original_query] + augmented_queries\n",
    "results = chroma_collection.query(query_texts=queries, n_results=5, include=['documents', 'embeddings'])\n",
    "\n",
    "retrieved_documents = results['documents']\n",
    "\n",
    "# Deduplicate the retrieved documents\n",
    "unique_documents = set()\n",
    "for documents in retrieved_documents:\n",
    "    for document in documents:\n",
    "        unique_documents.add(document)\n",
    "\n",
    "for i, documents in enumerate(retrieved_documents):\n",
    "    print(f\"Query: {queries[i]}\")\n",
    "    print('')\n",
    "    print(\"Results:\")\n",
    "    for doc in documents:\n",
    "        print(word_wrap(doc))\n",
    "        print('')\n",
    "    print('-'*100)"
   ]
  },
  {
   "cell_type": "code",
   "execution_count": 34,
   "id": "b1183e75-4c65-422e-bc47-48010d8b29c9",
   "metadata": {
    "height": 132
   },
   "outputs": [
    {
     "name": "stderr",
     "output_type": "stream",
     "text": [
      "100%|██████████| 1/1 [00:00<00:00,  1.11it/s]\n",
      "100%|██████████| 5/5 [00:03<00:00,  1.59it/s]\n"
     ]
    }
   ],
   "source": [
    "original_query_embedding = embedding_function([original_query])\n",
    "augmented_query_embeddings = embedding_function(augmented_queries)\n",
    "\n",
    "project_original_query = project_embeddings(original_query_embedding, umap_transform)\n",
    "project_augmented_queries = project_embeddings(augmented_query_embeddings, umap_transform)\n"
   ]
  },
  {
   "cell_type": "code",
   "execution_count": 35,
   "id": "5fcd85cc-8898-41ed-a0aa-bd8a33fc565a",
   "metadata": {
    "height": 98
   },
   "outputs": [
    {
     "name": "stderr",
     "output_type": "stream",
     "text": [
      "100%|██████████| 30/30 [00:18<00:00,  1.61it/s]\n"
     ]
    }
   ],
   "source": [
    "result_embeddings = results['embeddings']\n",
    "result_embeddings = [item for sublist in result_embeddings for item in sublist]\n",
    "projected_result_embeddings = project_embeddings(result_embeddings, umap_transform)\n"
   ]
  },
  {
   "cell_type": "code",
   "execution_count": 36,
   "id": "c65337e9-85ee-47f7-89fd-7fe77cd0e1b2",
   "metadata": {
    "height": 217
   },
   "outputs": [
    {
     "data": {
      "text/plain": [
       "(-3.3378206849098206, 7.230811512470245, 5.923376560211182, 13.01902151107788)"
      ]
     },
     "execution_count": 36,
     "metadata": {},
     "output_type": "execute_result"
    },
    {
     "data": {
      "image/png": "[encoded data removed]",
      "text/plain": [
       "<Figure size 640x480 with 1 Axes>"
      ]
     },
     "metadata": {},
     "output_type": "display_data"
    }
   ],
   "source": [
    "import matplotlib.pyplot as plt\n",
    "\n",
    "plt.figure()\n",
    "plt.scatter(projected_dataset_embeddings[:, 0], projected_dataset_embeddings[:, 1], s=10, color='gray')\n",
    "plt.scatter(project_augmented_queries[:, 0], project_augmented_queries[:, 1], s=150, marker='X', color='orange')\n",
    "plt.scatter(projected_result_embeddings[:, 0], projected_result_embeddings[:, 1], s=100, facecolors='none', edgecolors='g')\n",
    "plt.scatter(project_original_query[:, 0], project_original_query[:, 1], s=150, marker='X', color='r')\n",
    "\n",
    "plt.gca().set_aspect('equal', 'datalim')\n",
    "plt.title(f'{original_query}')\n",
    "plt.axis('off')"
   ]
  },
  {
   "cell_type": "code",
   "execution_count": null,
   "id": "a7794092-4195-4cf3-9eab-11c9c05a26b9",
   "metadata": {
    "height": 30
   },
   "outputs": [],
   "source": []
  },
  {
   "cell_type": "code",
   "execution_count": null,
   "id": "f2cab7a1-1be7-45f0-83b7-543e48f83901",
   "metadata": {
    "height": 30
   },
   "outputs": [],
   "source": []
  },
  {
   "cell_type": "code",
   "execution_count": null,
   "id": "fe0343be-73c9-4aed-83b0-aba09569ac87",
   "metadata": {
    "height": 30
   },
   "outputs": [],
   "source": []
  },
  {
   "cell_type": "code",
   "execution_count": null,
   "id": "6f0f3e33-e517-4f6b-8b38-c47c1e3d40b4",
   "metadata": {
    "height": 30
   },
   "outputs": [],
   "source": []
  },
  {
   "cell_type": "code",
   "execution_count": null,
   "id": "a16fdcb1-57d0-4f04-af8f-7c7fc594d947",
   "metadata": {
    "height": 30
   },
   "outputs": [],
   "source": []
  },
  {
   "cell_type": "code",
   "execution_count": null,
   "id": "babe7893-9cbc-43c5-94ef-cbf8f5d68cf2",
   "metadata": {
    "height": 30
   },
   "outputs": [],
   "source": []
  },
  {
   "cell_type": "code",
   "execution_count": null,
   "id": "60a9524b-1085-4bdf-a161-39f11397dc1f",
   "metadata": {
    "height": 30
   },
   "outputs": [],
   "source": []
  },
  {
   "cell_type": "code",
   "execution_count": null,
   "id": "d189f088-b58e-4583-9590-afdfa624cf87",
   "metadata": {
    "height": 30
   },
   "outputs": [],
   "source": []
  },
  {
   "cell_type": "code",
   "execution_count": null,
   "id": "7b26a01a-4575-446b-b8dc-a8c5ab153172",
   "metadata": {
    "height": 30
   },
   "outputs": [],
   "source": []
  },
  {
   "cell_type": "code",
   "execution_count": null,
   "id": "0950575b-b69d-46a3-8c91-c7af89f5c204",
   "metadata": {
    "height": 30
   },
   "outputs": [],
   "source": []
  },
  {
   "cell_type": "code",
   "execution_count": null,
   "id": "3f123ad8-b2e8-4a25-8b42-a520ecaf566b",
   "metadata": {
    "height": 30
   },
   "outputs": [],
   "source": []
  },
  {
   "cell_type": "code",
   "execution_count": null,
   "id": "83c04587-d1de-419c-a213-2e3eb67dc33d",
   "metadata": {
    "height": 30
   },
   "outputs": [],
   "source": []
  },
  {
   "cell_type": "code",
   "execution_count": null,
   "id": "d3155972-824e-4ebe-a692-2227c113c5a8",
   "metadata": {
    "height": 30
   },
   "outputs": [],
   "source": []
  },
  {
   "cell_type": "code",
   "execution_count": null,
   "id": "d8144a4a-85f6-4800-87f9-36a1b6ceda1f",
   "metadata": {
    "height": 30
   },
   "outputs": [],
   "source": []
  },
  {
   "cell_type": "code",
   "execution_count": null,
   "id": "8ff0b18e-12a0-4ac0-97dd-8618b22e7dbf",
   "metadata": {
    "height": 30
   },
   "outputs": [],
   "source": []
  },
  {
   "cell_type": "code",
   "execution_count": null,
   "id": "03ca7e7c-4b47-4652-9b46-a40b3dffa5e6",
   "metadata": {
    "height": 30
   },
   "outputs": [],
   "source": []
  },
  {
   "cell_type": "code",
   "execution_count": null,
   "id": "f74e7d67-7f51-41c4-8e25-edbaa02d0bd8",
   "metadata": {
    "height": 30
   },
   "outputs": [],
   "source": []
  },
  {
   "cell_type": "code",
   "execution_count": null,
   "id": "9188e886-d406-406f-b234-f5c3353a77a2",
   "metadata": {
    "height": 30
   },
   "outputs": [],
   "source": []
  },
  {
   "cell_type": "code",
   "execution_count": null,
   "id": "3d3bb286-2694-4ed4-8466-46865e997ced",
   "metadata": {
    "height": 30
   },
   "outputs": [],
   "source": []
  },
  {
   "cell_type": "code",
   "execution_count": null,
   "id": "2876084b-4038-4b0c-8ec8-8294a86adfc1",
   "metadata": {
    "height": 30
   },
   "outputs": [],
   "source": []
  },
  {
   "cell_type": "code",
   "execution_count": null,
   "id": "3ac542e1-b094-431f-9611-cf7e36d3f0de",
   "metadata": {
    "height": 30
   },
   "outputs": [],
   "source": []
  },
  {
   "cell_type": "code",
   "execution_count": null,
   "id": "bcd6114b-c09d-4173-a623-9a08aaf63e4b",
   "metadata": {
    "height": 30
   },
   "outputs": [],
   "source": []
  },
  {
   "cell_type": "code",
   "execution_count": null,
   "id": "ad10ab65-b351-4f4b-b7d2-63474acfb9f9",
   "metadata": {
    "height": 30
   },
   "outputs": [],
   "source": []
  },
  {
   "cell_type": "code",
   "execution_count": null,
   "id": "800f3d81-cbdb-4ba4-8d49-85747fdfded8",
   "metadata": {
    "height": 30
   },
   "outputs": [],
   "source": []
  },
  {
   "cell_type": "code",
   "execution_count": null,
   "id": "37847448-c9f6-4f51-bf06-f7809964a8b2",
   "metadata": {
    "height": 30
   },
   "outputs": [],
   "source": []
  },
  {
   "cell_type": "code",
   "execution_count": null,
   "id": "2dcefc87-0964-4b94-946b-2145781ad606",
   "metadata": {
    "height": 30
   },
   "outputs": [],
   "source": []
  },
  {
   "cell_type": "code",
   "execution_count": null,
   "id": "5fc994bc-7b1e-476a-9df9-300a3e374882",
   "metadata": {
    "height": 30
   },
   "outputs": [],
   "source": []
  },
  {
   "cell_type": "code",
   "execution_count": null,
   "id": "9ef5f5d5-acb7-4b0a-93ef-e61306708e69",
   "metadata": {
    "height": 30
   },
   "outputs": [],
   "source": []
  },
  {
   "cell_type": "code",
   "execution_count": null,
   "id": "44e4b33f-d8fb-4f3a-b884-8b43a3766583",
   "metadata": {
    "height": 30
   },
   "outputs": [],
   "source": []
  },
  {
   "cell_type": "code",
   "execution_count": null,
   "id": "c2a480a2-2c29-4a01-80dd-ee41934b7901",
   "metadata": {
    "height": 30
   },
   "outputs": [],
   "source": []
  },
  {
   "cell_type": "code",
   "execution_count": null,
   "id": "8127c2bf-0d15-4b62-b46a-f7a17ad2ec92",
   "metadata": {
    "height": 30
   },
   "outputs": [],
   "source": []
  },
  {
   "cell_type": "code",
   "execution_count": null,
   "id": "18ded129-a637-4269-a116-550fe9a90570",
   "metadata": {
    "height": 30
   },
   "outputs": [],
   "source": []
  },
  {
   "cell_type": "code",
   "execution_count": null,
   "id": "c1d7ee44-7b29-483f-a3f2-cc9d8e18880e",
   "metadata": {
    "height": 30
   },
   "outputs": [],
   "source": []
  },
  {
   "cell_type": "code",
   "execution_count": null,
   "id": "8e450dd8-9719-42c6-8c3c-33cac910e0a5",
   "metadata": {
    "height": 30
   },
   "outputs": [],
   "source": []
  }
 ],
 "metadata": {
  "kernelspec": {
   "display_name": "Python 3 (ipykernel)",
   "language": "python",
   "name": "python3"
  },
  "language_info": {
   "codemirror_mode": {
    "name": "ipython",
    "version": 3
   },
   "file_extension": ".py",
   "mimetype": "text/x-python",
   "name": "python",
   "nbconvert_exporter": "python",
   "pygments_lexer": "ipython3",
   "version": "3.9.19"
  }
 },
 "nbformat": 4,
 "nbformat_minor": 5
}
